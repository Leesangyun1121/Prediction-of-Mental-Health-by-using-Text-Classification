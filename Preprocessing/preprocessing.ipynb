{
 "cells": [
  {
   "cell_type": "markdown",
   "metadata": {},
   "source": [
    "# Preprocessing\n",
    "\n",
    "정신질환 서브레딧인 ADHD, Anxiety, Bipolar, Depression, Schizophrenia subreddit 데이터와 비교군으로 만든 non Mental health 데이터에서 단일 author가 작성한 다수의 글 중 임의로 하나를 추출해 정리한 데이터를 각 모델에 넣기 위한 공통적인 전처리 과정을 거친다.\n",
    "\n",
    "1. 링크 제거\n",
    "2. ?/!/'를 제외한 특수문자 제거\n",
    "3. 소문자로 변환\n",
    "4. 제목과 본문 병합"
   ]
  },
  {
   "cell_type": "code",
   "execution_count": 1,
   "metadata": {},
   "outputs": [],
   "source": [
    "import os\n",
    "os.chdir('./dataset')"
   ]
  },
  {
   "cell_type": "code",
   "execution_count": 2,
   "metadata": {},
   "outputs": [],
   "source": [
    "from nltk import word_tokenize\n",
    "def s_cleansing(List):\n",
    "    corpus = []\n",
    "    for i in List:\n",
    "        url_pattern ='https?://\\S+|#([0-9a-zA-Z]*)'\n",
    "        i = re.sub(pattern=url_pattern, repl=' ', string = str(i))\n",
    "        i = i.replace('\\r','').replace('\\n','')\n",
    "        text = word_tokenize(re.sub('[-=+,#/\\:^$”@*\\\"“※~&%ㆍ!』\\r\\n;’)(...]', ' ', i.lower()))\n",
    "        \n",
    "        \n",
    "        corpus.append(' '.join(text))\n",
    "    return corpus"
   ]
  },
  {
   "cell_type": "code",
   "execution_count": 17,
   "metadata": {},
   "outputs": [
    {
     "name": "stderr",
     "output_type": "stream",
     "text": [
      "/Users/leesangyun/opt/anaconda3/lib/python3.7/site-packages/IPython/core/interactiveshell.py:3063: DtypeWarning: Columns (0) have mixed types.Specify dtype option on import or set low_memory=False.\n",
      "  interactivity=interactivity, compiler=compiler, result=result)\n"
     ]
    }
   ],
   "source": [
    "import pandas as pd\n",
    "anx = pd.read_csv('author_1_anxiety.csv')\n",
    "bi = pd.read_csv('author_1_bipolar.csv')\n",
    "sch = pd.read_csv('author_1_schizo.csv')\n",
    "adhd = pd.read_csv('author_1_adhd.csv')\n",
    "dep = pd.read_csv('author_1_depression.csv')\n",
    "nonM = pd.read_csv('author_1_non_mh.csv')"
   ]
  },
  {
   "cell_type": "code",
   "execution_count": 18,
   "metadata": {},
   "outputs": [],
   "source": [
    "#anx.loc[anx.content.isnull()]\n",
    "anx = anx.dropna(how = 'any')\n",
    "bi = bi.dropna(how='any')\n",
    "sch = sch.dropna(how='any')\n",
    "adhd = adhd.dropna(how='any')\n",
    "dep = dep.dropna(how='any')\n",
    "nonM = nonM.dropna(how='any')"
   ]
  },
  {
   "cell_type": "code",
   "execution_count": 25,
   "metadata": {},
   "outputs": [],
   "source": [
    "anx = anx['content']\n",
    "bi = bi['content']\n",
    "nonM = nonM['content']\n",
    "dep = dep['content']\n",
    "sch = sch['content']\n",
    "adhd = adhd['content']"
   ]
  },
  {
   "cell_type": "code",
   "execution_count": 13,
   "metadata": {},
   "outputs": [
    {
     "data": {
      "text/plain": [
       "['journaling mydayis this want to be a kind of a journal about using the new adhd medication mydayis i want to underline that i am not paid nor by shire neither by any one else for writing this journal i will try my best to post every day',\n",
       " \"how do you guys deal with being lazy ? i mean everyday for the past two weeks o have been trying to get myself to do shit i need to do for the past two weeks i have accomplished nothing i ca n't bring myself to do it i end up sidetracking all the timelike how am i supposed to just sit and be productive ?\"]"
      ]
     },
     "execution_count": 13,
     "metadata": {},
     "output_type": "execute_result"
    }
   ],
   "source": [
    "anx_c = s_cleansing(anx)\n",
    "bi_c = s_cleansing(bi)\n",
    "sch_c = s_cleansing(sch)\n",
    "adhd_c = s_cleansing(adhd)\n",
    "dep_c = s_cleansing(dep)\n",
    "nonM = s_cleansing(nonM)"
   ]
  },
  {
   "cell_type": "code",
   "execution_count": 77,
   "metadata": {},
   "outputs": [
    {
     "data": {
      "text/html": [
       "<div>\n",
       "<style scoped>\n",
       "    .dataframe tbody tr th:only-of-type {\n",
       "        vertical-align: middle;\n",
       "    }\n",
       "\n",
       "    .dataframe tbody tr th {\n",
       "        vertical-align: top;\n",
       "    }\n",
       "\n",
       "    .dataframe thead th {\n",
       "        text-align: right;\n",
       "    }\n",
       "</style>\n",
       "<table border=\"1\" class=\"dataframe\">\n",
       "  <thead>\n",
       "    <tr style=\"text-align: right;\">\n",
       "      <th></th>\n",
       "      <th>content</th>\n",
       "    </tr>\n",
       "  </thead>\n",
       "  <tbody>\n",
       "    <tr>\n",
       "      <th>0</th>\n",
       "      <td>journaling mydayis this want to be a kind of a...</td>\n",
       "    </tr>\n",
       "    <tr>\n",
       "      <th>1</th>\n",
       "      <td>how do you guys deal with being lazy ? i mean ...</td>\n",
       "    </tr>\n",
       "    <tr>\n",
       "      <th>2</th>\n",
       "      <td>what were things you did as a kid with adhd ? ...</td>\n",
       "    </tr>\n",
       "    <tr>\n",
       "      <th>3</th>\n",
       "      <td>more lazy tired on meds wake up tired take my ...</td>\n",
       "    </tr>\n",
       "    <tr>\n",
       "      <th>4</th>\n",
       "      <td>lose or gain weight i have been on adderal xr ...</td>\n",
       "    </tr>\n",
       "    <tr>\n",
       "      <th>...</th>\n",
       "      <td>...</td>\n",
       "    </tr>\n",
       "    <tr>\n",
       "      <th>94319</th>\n",
       "      <td>remeron for sleep… so my doctor has prescribed...</td>\n",
       "    </tr>\n",
       "    <tr>\n",
       "      <th>94320</th>\n",
       "      <td>am i being lied to ? ? ? i have been strugglin...</td>\n",
       "    </tr>\n",
       "    <tr>\n",
       "      <th>94321</th>\n",
       "      <td>any help with forming habits ? so i have adhd ...</td>\n",
       "    </tr>\n",
       "    <tr>\n",
       "      <th>94322</th>\n",
       "      <td>i do n't know what to do anymore so i 'm writi...</td>\n",
       "    </tr>\n",
       "    <tr>\n",
       "      <th>94323</th>\n",
       "      <td>how can i avoid the adderall crash when i work...</td>\n",
       "    </tr>\n",
       "  </tbody>\n",
       "</table>\n",
       "<p>94324 rows × 1 columns</p>\n",
       "</div>"
      ],
      "text/plain": [
       "                                                 content\n",
       "0      journaling mydayis this want to be a kind of a...\n",
       "1      how do you guys deal with being lazy ? i mean ...\n",
       "2      what were things you did as a kid with adhd ? ...\n",
       "3      more lazy tired on meds wake up tired take my ...\n",
       "4      lose or gain weight i have been on adderal xr ...\n",
       "...                                                  ...\n",
       "94319  remeron for sleep… so my doctor has prescribed...\n",
       "94320  am i being lied to ? ? ? i have been strugglin...\n",
       "94321  any help with forming habits ? so i have adhd ...\n",
       "94322  i do n't know what to do anymore so i 'm writi...\n",
       "94323  how can i avoid the adderall crash when i work...\n",
       "\n",
       "[94324 rows x 1 columns]"
      ]
     },
     "execution_count": 77,
     "metadata": {},
     "output_type": "execute_result"
    }
   ],
   "source": [
    "anx_c = pd.DataFrame({'content': anx_c})\n",
    "bi_c = pd.DataFrame({'content': bi_c})\n",
    "sch_c = pd.DataFrame({'content': sch_c})\n",
    "adhd_c = pd.DataFrame({'content': adhd_c})\n",
    "dep_c = pd.DataFrame({'content': dep_c})\n",
    "nonM_c = pd.DataFrame({'content': nonM_c})"
   ]
  },
  {
   "cell_type": "code",
   "execution_count": 78,
   "metadata": {},
   "outputs": [
    {
     "data": {
      "text/html": [
       "<div>\n",
       "<style scoped>\n",
       "    .dataframe tbody tr th:only-of-type {\n",
       "        vertical-align: middle;\n",
       "    }\n",
       "\n",
       "    .dataframe tbody tr th {\n",
       "        vertical-align: top;\n",
       "    }\n",
       "\n",
       "    .dataframe thead th {\n",
       "        text-align: right;\n",
       "    }\n",
       "</style>\n",
       "<table border=\"1\" class=\"dataframe\">\n",
       "  <thead>\n",
       "    <tr style=\"text-align: right;\">\n",
       "      <th></th>\n",
       "      <th>content</th>\n",
       "      <th>class</th>\n",
       "    </tr>\n",
       "  </thead>\n",
       "  <tbody>\n",
       "    <tr>\n",
       "      <th>0</th>\n",
       "      <td>journaling mydayis this want to be a kind of a...</td>\n",
       "      <td>adhd</td>\n",
       "    </tr>\n",
       "    <tr>\n",
       "      <th>1</th>\n",
       "      <td>how do you guys deal with being lazy ? i mean ...</td>\n",
       "      <td>adhd</td>\n",
       "    </tr>\n",
       "    <tr>\n",
       "      <th>2</th>\n",
       "      <td>what were things you did as a kid with adhd ? ...</td>\n",
       "      <td>adhd</td>\n",
       "    </tr>\n",
       "    <tr>\n",
       "      <th>3</th>\n",
       "      <td>more lazy tired on meds wake up tired take my ...</td>\n",
       "      <td>adhd</td>\n",
       "    </tr>\n",
       "    <tr>\n",
       "      <th>4</th>\n",
       "      <td>lose or gain weight i have been on adderal xr ...</td>\n",
       "      <td>adhd</td>\n",
       "    </tr>\n",
       "    <tr>\n",
       "      <th>...</th>\n",
       "      <td>...</td>\n",
       "      <td>...</td>\n",
       "    </tr>\n",
       "    <tr>\n",
       "      <th>94319</th>\n",
       "      <td>remeron for sleep… so my doctor has prescribed...</td>\n",
       "      <td>adhd</td>\n",
       "    </tr>\n",
       "    <tr>\n",
       "      <th>94320</th>\n",
       "      <td>am i being lied to ? ? ? i have been strugglin...</td>\n",
       "      <td>adhd</td>\n",
       "    </tr>\n",
       "    <tr>\n",
       "      <th>94321</th>\n",
       "      <td>any help with forming habits ? so i have adhd ...</td>\n",
       "      <td>adhd</td>\n",
       "    </tr>\n",
       "    <tr>\n",
       "      <th>94322</th>\n",
       "      <td>i do n't know what to do anymore so i 'm writi...</td>\n",
       "      <td>adhd</td>\n",
       "    </tr>\n",
       "    <tr>\n",
       "      <th>94323</th>\n",
       "      <td>how can i avoid the adderall crash when i work...</td>\n",
       "      <td>adhd</td>\n",
       "    </tr>\n",
       "  </tbody>\n",
       "</table>\n",
       "<p>94324 rows × 2 columns</p>\n",
       "</div>"
      ],
      "text/plain": [
       "                                                 content class\n",
       "0      journaling mydayis this want to be a kind of a...  adhd\n",
       "1      how do you guys deal with being lazy ? i mean ...  adhd\n",
       "2      what were things you did as a kid with adhd ? ...  adhd\n",
       "3      more lazy tired on meds wake up tired take my ...  adhd\n",
       "4      lose or gain weight i have been on adderal xr ...  adhd\n",
       "...                                                  ...   ...\n",
       "94319  remeron for sleep… so my doctor has prescribed...  adhd\n",
       "94320  am i being lied to ? ? ? i have been strugglin...  adhd\n",
       "94321  any help with forming habits ? so i have adhd ...  adhd\n",
       "94322  i do n't know what to do anymore so i 'm writi...  adhd\n",
       "94323  how can i avoid the adderall crash when i work...  adhd\n",
       "\n",
       "[94324 rows x 2 columns]"
      ]
     },
     "execution_count": 78,
     "metadata": {},
     "output_type": "execute_result"
    }
   ],
   "source": [
    "anx_c['class'] = 'anx'\n",
    "bi_c['class'] = 'bi'\n",
    "sch_c['class'] = 'sch'\n",
    "adhd_c['class'] = 'adhd'\n",
    "dep_c['class'] = 'dep'\n",
    "nonM_c['class'] = 'nonM'"
   ]
  },
  {
   "cell_type": "code",
   "execution_count": 79,
   "metadata": {},
   "outputs": [],
   "source": [
    "adhd_c.to_csv('adhd_c.csv',index = False)\n",
    "bi_c.to_csv('bi_c.csv',index = False)\n",
    "sch_c.to_csv('sch_c.csv',index = False)\n",
    "adhd_c.to_csv('adhd_c.csv',index = False)\n",
    "dep_c.to_csv('dep_c.csv',index = False)\n",
    "nonM_c.to_csv('nonM_c.csv',index = False)"
   ]
  }
 ],
 "metadata": {
  "kernelspec": {
   "display_name": "Python 3",
   "language": "python",
   "name": "python3"
  },
  "language_info": {
   "codemirror_mode": {
    "name": "ipython",
    "version": 3
   },
   "file_extension": ".py",
   "mimetype": "text/x-python",
   "name": "python",
   "nbconvert_exporter": "python",
   "pygments_lexer": "ipython3",
   "version": "3.7.6"
  }
 },
 "nbformat": 4,
 "nbformat_minor": 4
}
